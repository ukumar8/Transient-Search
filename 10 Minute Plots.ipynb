{
 "cells": [
  {
   "cell_type": "code",
   "execution_count": 2,
   "metadata": {
    "collapsed": true
   },
   "outputs": [],
   "source": [
    "import numpy as np\n",
    "import csv\n",
    "import pandas\n",
    "import pandas as pd\n",
    "import matplotlib as plt\n",
    "import matplotlib.pyplot as plt\n",
    "from matplotlib import pyplot\n",
    "import matplotlib.pyplot as pyplot\n",
    "import os, sys, warnings\n",
    "import os.path as path\n",
    "import plotly.plotly as py\n",
    "import plotly.tools as tls\n",
    "\n",
    "data = pandas.read_csv('/Users/kumarnarasimhan/Desktop/Independent Research/Code Work/10min.csv') #Importing the data set"
   ]
  },
  {
   "cell_type": "code",
   "execution_count": 3,
   "metadata": {},
   "outputs": [
    {
     "data": {
      "text/plain": [
       "(98, 13)"
      ]
     },
     "execution_count": 3,
     "metadata": {},
     "output_type": "execute_result"
    }
   ],
   "source": [
    "data.shape"
   ]
  },
  {
   "cell_type": "code",
   "execution_count": 4,
   "metadata": {},
   "outputs": [
    {
     "data": {
      "text/html": [
       "<div>\n",
       "<style>\n",
       "    .dataframe thead tr:only-child th {\n",
       "        text-align: right;\n",
       "    }\n",
       "\n",
       "    .dataframe thead th {\n",
       "        text-align: left;\n",
       "    }\n",
       "\n",
       "    .dataframe tbody tr th {\n",
       "        vertical-align: top;\n",
       "    }\n",
       "</style>\n",
       "<table border=\"1\" class=\"dataframe\">\n",
       "  <thead>\n",
       "    <tr style=\"text-align: right;\">\n",
       "      <th></th>\n",
       "      <th>#id</th>\n",
       "      <th>wm_ra (deg)</th>\n",
       "      <th>ra_err (arcsec)</th>\n",
       "      <th>wm_decl (deg)</th>\n",
       "      <th>wm_uncertainty_ns (arcsec)</th>\n",
       "      <th>datapoints</th>\n",
       "      <th>newsource.id</th>\n",
       "      <th>sigma min</th>\n",
       "      <th>sigma max</th>\n",
       "      <th>flux mean</th>\n",
       "      <th>flux max</th>\n",
       "      <th>v_int</th>\n",
       "      <th>eta_int</th>\n",
       "    </tr>\n",
       "  </thead>\n",
       "  <tbody>\n",
       "    <tr>\n",
       "      <th>0</th>\n",
       "      <td>1654</td>\n",
       "      <td>152.240</td>\n",
       "      <td>1.326</td>\n",
       "      <td>2.749</td>\n",
       "      <td>1.324009</td>\n",
       "      <td>59</td>\n",
       "      <td></td>\n",
       "      <td></td>\n",
       "      <td></td>\n",
       "      <td>0.062</td>\n",
       "      <td>0.110</td>\n",
       "      <td>0.372</td>\n",
       "      <td>0.899</td>\n",
       "    </tr>\n",
       "    <tr>\n",
       "      <th>1</th>\n",
       "      <td>1655</td>\n",
       "      <td>149.601</td>\n",
       "      <td>0.833</td>\n",
       "      <td>3.406</td>\n",
       "      <td>0.831325</td>\n",
       "      <td>145</td>\n",
       "      <td>731</td>\n",
       "      <td>186.561</td>\n",
       "      <td>25.469</td>\n",
       "      <td>0.624</td>\n",
       "      <td>0.814</td>\n",
       "      <td>0.084</td>\n",
       "      <td>3.234</td>\n",
       "    </tr>\n",
       "    <tr>\n",
       "      <th>2</th>\n",
       "      <td>1656</td>\n",
       "      <td>152.442</td>\n",
       "      <td>10.094</td>\n",
       "      <td>1.969</td>\n",
       "      <td>10.087586</td>\n",
       "      <td>1</td>\n",
       "      <td>774</td>\n",
       "      <td>745.049</td>\n",
       "      <td>25.601</td>\n",
       "      <td>0.041</td>\n",
       "      <td>0.471</td>\n",
       "      <td>3.621</td>\n",
       "      <td>6.002</td>\n",
       "    </tr>\n",
       "    <tr>\n",
       "      <th>3</th>\n",
       "      <td>1657</td>\n",
       "      <td>149.603</td>\n",
       "      <td>0.993</td>\n",
       "      <td>2.447</td>\n",
       "      <td>0.991628</td>\n",
       "      <td>104</td>\n",
       "      <td></td>\n",
       "      <td></td>\n",
       "      <td></td>\n",
       "      <td>0.131</td>\n",
       "      <td>0.278</td>\n",
       "      <td>0.244</td>\n",
       "      <td>1.315</td>\n",
       "    </tr>\n",
       "    <tr>\n",
       "      <th>4</th>\n",
       "      <td>1658</td>\n",
       "      <td>149.442</td>\n",
       "      <td>5.088</td>\n",
       "      <td>0.959</td>\n",
       "      <td>5.087642</td>\n",
       "      <td>4</td>\n",
       "      <td></td>\n",
       "      <td></td>\n",
       "      <td></td>\n",
       "      <td>0.057</td>\n",
       "      <td>0.120</td>\n",
       "      <td>0.333</td>\n",
       "      <td>0.915</td>\n",
       "    </tr>\n",
       "  </tbody>\n",
       "</table>\n",
       "</div>"
      ],
      "text/plain": [
       "    #id   wm_ra (deg)   ra_err (arcsec)   wm_decl (deg)  \\\n",
       "0  1654       152.240             1.326           2.749   \n",
       "1  1655       149.601             0.833           3.406   \n",
       "2  1656       152.442            10.094           1.969   \n",
       "3  1657       149.603             0.993           2.447   \n",
       "4  1658       149.442             5.088           0.959   \n",
       "\n",
       "    wm_uncertainty_ns (arcsec)   datapoints  newsource.id  sigma min  \\\n",
       "0                     1.324009           59                            \n",
       "1                     0.831325          145           731    186.561   \n",
       "2                    10.087586            1           774    745.049   \n",
       "3                     0.991628          104                            \n",
       "4                     5.087642            4                            \n",
       "\n",
       "   sigma max   flux mean   flux max   v_int   eta_int  \n",
       "0                  0.062      0.110   0.372     0.899  \n",
       "1     25.469       0.624      0.814   0.084     3.234  \n",
       "2     25.601       0.041      0.471   3.621     6.002  \n",
       "3                  0.131      0.278   0.244     1.315  \n",
       "4                  0.057      0.120   0.333     0.915  "
      ]
     },
     "execution_count": 4,
     "metadata": {},
     "output_type": "execute_result"
    }
   ],
   "source": [
    "data.head()"
   ]
  },
  {
   "cell_type": "code",
   "execution_count": 6,
   "metadata": {},
   "outputs": [
    {
     "data": {
      "text/plain": [
       "<matplotlib.text.Text at 0x11b5228d0>"
      ]
     },
     "execution_count": 6,
     "metadata": {},
     "output_type": "execute_result"
    },
    {
     "data": {
      "image/png": "[encoded data removed]",
      "text/plain": [
       "<matplotlib.figure.Figure at 0x11b3eecc0>"
      ]
     },
     "metadata": {},
     "output_type": "display_data"
    }
   ],
   "source": [
    "%matplotlib inline\n",
    "pyplot.figure(figsize=(10,5))\n",
    "\n",
    "procdir = '/Users/kumarnarasimhan/Desktop/Independent Research/Code Work/10min.csv'\n",
    "\n",
    "\n",
    "#reading file, knowing where each part of the document is\n",
    "\n",
    "\n",
    "with open(procdir, \"r\") as infile:\n",
    "    read = csv.reader(infile)\n",
    "    data = list(read)\n",
    "#need to convert each list into an array\n",
    "#make the list into a long column, not row --> (size,1)\n",
    "size = len(data)\n",
    "eta_int = np.ndarray(shape=(size,1),dtype=np.float64)\n",
    "v_int = np.ndarray(shape=(size,1),dtype=np.float64)\n",
    "flux_max = np.ndarray(shape=(size,1),dtype=np.float64)\n",
    "flux_mean = np.ndarray(shape=(size,1))\n",
    "#see where each variable is in the data. Creating an ith section//ek lekey, ek faeko\n",
    "for i in range(1,size):\n",
    "    eta_int[i-1,0] = float(data[i][12])\n",
    "    v_int[i-1,0] = float(data[i][11])\n",
    "    flux_max[i-1,0] = float(data[i][10])\n",
    "    flux_mean[i-1,0] = float(data[i][9])\n",
    "\n",
    "\n",
    "pyplot.plot(eta_int,v_int, 'go', markersize=5, alpha = 0.5)\n",
    "pyplot.xscale('log')\n",
    "pyplot.xlim([10e-2, 10e2])\n",
    "pyplot.ylim([10e-4,10e5])\n",
    "pyplot.yscale('log')\n",
    "pyplot.title('V & Eta')\n",
    "pyplot.xlabel('eta_int')\n",
    "pyplot.ylabel('v_int')"
   ]
  },
  {
   "cell_type": "code",
   "execution_count": 5,
   "metadata": {},
   "outputs": [
    {
     "data": {
      "text/plain": [
       "<matplotlib.text.Text at 0x11f1c12b0>"
      ]
     },
     "execution_count": 5,
     "metadata": {},
     "output_type": "execute_result"
    },
    {
     "data": {
      "image/png": "[encoded data removed]",
      "text/plain": [
       "<matplotlib.figure.Figure at 0x11f065f28>"
      ]
     },
     "metadata": {},
     "output_type": "display_data"
    }
   ],
   "source": [
    "#plotting histograms of Eta\n",
    "\n",
    "%matplotlib inline\n",
    "# logspace sets the scale in a logarithmic scale, also needed to convert the bin scale to a log scale\n",
    "pyplot.hist(eta_int,bins=np.logspace(np.log10(0.1),np.log(10),50),log=True)\n",
    "# pyplot.xlim([0.1,10])\n",
    "pyplot.xscale('log')\n",
    "pyplot.yscale('linear')\n",
    "pyplot.xlabel('η')\n",
    "pyplot.ylabel('Frequency')"
   ]
  },
  {
   "cell_type": "code",
   "execution_count": 6,
   "metadata": {},
   "outputs": [
    {
     "data": {
      "text/plain": [
       "<matplotlib.text.Text at 0x11f8f47f0>"
      ]
     },
     "execution_count": 6,
     "metadata": {},
     "output_type": "execute_result"
    },
    {
     "data": {
      "image/png": "[encoded data removed]",
      "text/plain": [
       "<matplotlib.figure.Figure at 0x11f42f4e0>"
      ]
     },
     "metadata": {},
     "output_type": "display_data"
    }
   ],
   "source": [
    "#plotting histograms of V\n",
    "\n",
    "%matplotlib inline\n",
    "pyplot.hist(v_int,bins=np.logspace(np.log10(0.1),np.log(10),50),log=True)\n",
    "# pyplot.xlim([0.09,4])\n",
    "pyplot.xscale('log')\n",
    "pyplot.yscale('linear')\n",
    "pyplot.xlabel('V')\n",
    "pyplot.ylabel('Frequency')"
   ]
  },
  {
   "cell_type": "code",
   "execution_count": 7,
   "metadata": {},
   "outputs": [
    {
     "data": {
      "text/plain": [
       "<matplotlib.text.Text at 0x11fcfe278>"
      ]
     },
     "execution_count": 7,
     "metadata": {},
     "output_type": "execute_result"
    },
    {
     "data": {
      "image/png": "[encoded data removed]",
      "text/plain": [
       "<matplotlib.figure.Figure at 0x11fc887b8>"
      ]
     },
     "metadata": {},
     "output_type": "display_data"
    }
   ],
   "source": [
    "#plotting Eta and Max Flux\n",
    "\n",
    "pyplot.plot(flux_max,eta_int, 'go', markersize=5, alpha = 0.5)\n",
    "\n",
    "pyplot.xlim([10e-4, 10e4])\n",
    "pyplot.ylim([10e-4,10e5])\n",
    "pyplot.xscale('log')\n",
    "pyplot.yscale('log')\n",
    "pyplot.title('Eta and Max Flux')\n",
    "pyplot.xlabel('flux_max')\n",
    "pyplot.ylabel('eta_int')"
   ]
  },
  {
   "cell_type": "code",
   "execution_count": 8,
   "metadata": {},
   "outputs": [
    {
     "data": {
      "text/plain": [
       "<matplotlib.text.Text at 0x11fc48e80>"
      ]
     },
     "execution_count": 8,
     "metadata": {},
     "output_type": "execute_result"
    },
    {
     "data": {
      "image/png": "[encoded data removed]",
      "text/plain": [
       "<matplotlib.figure.Figure at 0x11fdbbda0>"
      ]
     },
     "metadata": {},
     "output_type": "display_data"
    }
   ],
   "source": [
    "#plotting V and Max Flux\n",
    "    \n",
    "pyplot.plot(flux_max,v_int, 'go', markersize=5, alpha = 0.5)\n",
    "pyplot.xlim([10e-4, 10e4])\n",
    "pyplot.ylim([10e-4,10e5])\n",
    "pyplot.xscale('log')\n",
    "pyplot.yscale('log')\n",
    "pyplot.title('V and Max Flux')\n",
    "pyplot.xlabel('flux_max')\n",
    "pyplot.ylabel('v_int')"
   ]
  },
  {
   "cell_type": "code",
   "execution_count": 9,
   "metadata": {},
   "outputs": [
    {
     "data": {
      "text/plain": [
       "<matplotlib.text.Text at 0x12027bcc0>"
      ]
     },
     "execution_count": 9,
     "metadata": {},
     "output_type": "execute_result"
    },
    {
     "data": {
      "image/png": "[encoded data removed]",
      "text/plain": [
       "<matplotlib.figure.Figure at 0x1202bf9e8>"
      ]
     },
     "metadata": {},
     "output_type": "display_data"
    }
   ],
   "source": [
    "#plotting Eta and Max/Med Flux\n",
    "with np.errstate(divide='ignore', invalid='ignore'):\n",
    "    data_div=flux_max/flux_mean[:685]\n",
    "pyplot.ylim([10e-5, 10e5])\n",
    "pyplot.xlim([10e-5,10e2])\n",
    "pyplot.plot(data_div,eta_int, 'go', markersize=5, alpha = 0.5)\n",
    "pyplot.xscale('log')\n",
    "pyplot.yscale('log')\n",
    "pyplot.title('Eta and Max/Med Flux')\n",
    "pyplot.xlabel('Max/Med Flux')\n",
    "pyplot.ylabel('eta_int')"
   ]
  },
  {
   "cell_type": "code",
   "execution_count": 13,
   "metadata": {},
   "outputs": [
    {
     "data": {
      "text/plain": [
       "<matplotlib.text.Text at 0x121036390>"
      ]
     },
     "execution_count": 13,
     "metadata": {},
     "output_type": "execute_result"
    },
    {
     "data": {
      "image/png": "[encoded data removed]",
      "text/plain": [
       "<matplotlib.figure.Figure at 0x120f6ebe0>"
      ]
     },
     "metadata": {},
     "output_type": "display_data"
    }
   ],
   "source": [
    "#plotting V and Max/Med Flux\n",
    "with np.errstate(divide='ignore', invalid='ignore'):\n",
    "    data_div=flux_max/flux_mean[:99]\n",
    "# creating a new column of data with the right size which is where the 99 comes into play\n",
    "pyplot.ylim([10e-6, 10e4])\n",
    "pyplot.xlim([10e-5,10e2])\n",
    "pyplot.plot(data_div,v_int, 'go', markersize=5, alpha = 0.5)\n",
    "pyplot.xscale('log')\n",
    "pyplot.yscale('log')\n",
    "pyplot.title('V and Max/Med Flux')\n",
    "pyplot.xlabel('Max/Med Flux')\n",
    "pyplot.ylabel('v_int')"
   ]
  },
  {
   "cell_type": "code",
   "execution_count": null,
   "metadata": {
    "collapsed": true
   },
   "outputs": [],
   "source": []
  }
 ],
 "metadata": {
  "kernelspec": {
   "display_name": "Python 3",
   "language": "python",
   "name": "python3"
  },
  "language_info": {
   "codemirror_mode": {
    "name": "ipython",
    "version": 3
   },
   "file_extension": ".py",
   "mimetype": "text/x-python",
   "name": "python",
   "nbconvert_exporter": "python",
   "pygments_lexer": "ipython3",
   "version": "3.7.3"
  }
 },
 "nbformat": 4,
 "nbformat_minor": 2
}
