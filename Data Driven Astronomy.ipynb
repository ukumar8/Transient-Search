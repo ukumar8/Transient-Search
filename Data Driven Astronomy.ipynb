{
 "cells": [
  {
   "cell_type": "markdown",
   "metadata": {},
   "source": [
    "WEEK 1"
   ]
  },
  {
   "cell_type": "code",
   "execution_count": 1,
   "metadata": {},
   "outputs": [],
   "source": [
    "from statistics import mean\n",
    "import numpy as np"
   ]
  },
  {
   "cell_type": "code",
   "execution_count": 2,
   "metadata": {},
   "outputs": [],
   "source": [
    "# Calculating the mean and median of a dataset\n",
    "\n",
    "def calc_stats(data):\n",
    "  data = np.loadtxt(data, delimiter = ',')\n",
    "  mean = np.mean(data)\n",
    "  median = np.median(data)\n",
    "  return (np.round(mean,1),np.round(median,1))"
   ]
  },
  {
   "cell_type": "code",
   "execution_count": 3,
   "metadata": {},
   "outputs": [],
   "source": [
    "# Write a mean_datasets function that reads a list of CSV files and returns an array of the mean of each cell in data.\n",
    "\n",
    "import numpy as np\n",
    "\n",
    "\n",
    "def mean_datasets(filenames):\n",
    "  n = len(filenames)\n",
    "  if n > 0:\n",
    "    data = np.loadtxt(filenames[0],delimiter = ',')\n",
    "    for i in range(1,n):\n",
    "      data += np.loadtxt(filenames[i], delimiter = ',')\n",
    "      \n",
    "      data_mean = data/n\n",
    "      \n",
    "      return np.round(data_mean,1)"
   ]
  },
  {
   "cell_type": "code",
   "execution_count": 4,
   "metadata": {},
   "outputs": [],
   "source": [
    "# Finding brightest pixel in a FITS file\n",
    "\n",
    "from astropy.io import fits\n",
    "import numpy as np\n",
    "import matplotlib.pyplot as plt\n",
    "\n",
    "def load_fits(file):\n",
    "  hdulist = fits.open(file)                      #HDU = header/data units\n",
    "  data = hdulist[0].data\n",
    "  \n",
    "  bright = np.argmax(data)                       #argmax gets the maximum of the array\n",
    "  max_pos = np.unravel_index(bright, data.shape) #unravel_undex does this based on array dimensions\n",
    "  return max_pos"
   ]
  },
  {
   "cell_type": "code",
   "execution_count": 1,
   "metadata": {},
   "outputs": [],
   "source": [
    "# Mean of a set of FITS files\n",
    "\n",
    "import numpy as np\n",
    "from astropy.io import fits\n",
    "\n",
    "def mean_fits(filenames):\n",
    "  n = len(filenames)\n",
    "  if n>0:\n",
    "    hdulist = fits.open(filenames[0])\n",
    "    data = hdulist[0].data\n",
    "    hdulist.close()\n",
    "    \n",
    "    for i in range(1,n):\n",
    "      hdulist = fits.open(filenames[i])\n",
    "      data += hdulist[0].data\n",
    "      hdulist.close()\n",
    "  \n",
    "    mean = data/n\n",
    "    return mean"
   ]
  },
  {
   "cell_type": "markdown",
   "metadata": {},
   "source": [
    "Week 2"
   ]
  },
  {
   "cell_type": "code",
   "execution_count": 2,
   "metadata": {},
   "outputs": [],
   "source": [
    "#Write a find_closest function that takes a catalogue and the position of a target source (a right ascension \n",
    "        # and declination) and finds the closest match for the target source in the catalogue.\n",
    "\n",
    "import numpy as np\n",
    "\n",
    "def hms2dec(hr, m, s):\n",
    "  dec = hr + m/60 + s/3600\n",
    "  return dec*15\n",
    "\n",
    "def dms2dec(d, m, s):\n",
    "  sign = d/abs(d)\n",
    "  dec = abs(d) + m/60 + s/3600\n",
    "  return sign*dec\n",
    "\n",
    "def import_bss():\n",
    "  res = []\n",
    "  data = np.loadtxt('bss.dat', usecols=range(1, 7))\n",
    "  for i, row in enumerate(data, 1):\n",
    "    res.append((i, hms2dec(row[0], row[1], row[2]), dms2dec(row[3], row[4], row[5])))\n",
    "  return res\n",
    "\n",
    "def import_super():\n",
    "  data = np.loadtxt('super.csv', delimiter=',', skiprows=1, usecols=[0, 1])\n",
    "  res = []\n",
    "  for i, row in enumerate(data, 1):\n",
    "    res.append((i, row[0], row[1]))\n",
    "  return res\n",
    "\n",
    "def angular_dist(ra1, dec1, ra2, dec2):\n",
    "  # Convert to radians\n",
    "  r1 = np.radians(ra1)\n",
    "  d1 = np.radians(dec1)\n",
    "  r2 = np.radians(ra2)\n",
    "  d2 = np.radians(dec2)\n",
    "\n",
    "  a = np.sin(np.abs(d1 - d2)/2)**2\n",
    "  b = np.cos(d1)*np.cos(d2)*np.sin(np.abs(r1 - r2)/2)**2\n",
    "\n",
    "  angle = 2*np.arcsin(np.sqrt(a + b))\n",
    "    \n",
    "  # Convert back to degrees\n",
    "  return np.degrees(angle)\n",
    "\n",
    "def find_closest(cat, ra, dec):\n",
    "  min_dist = np.inf\n",
    "  min_id = None\n",
    "  for id1, ra1, dec1 in cat:\n",
    "    dist = angular_dist(ra1, dec1, ra, dec)\n",
    "    if dist < min_dist:\n",
    "      min_id = id1\n",
    "      min_dist = dist\n",
    "    \n",
    "  return min_id, min_dist"
   ]
  },
  {
   "cell_type": "code",
   "execution_count": 1,
   "metadata": {},
   "outputs": [],
   "source": [
    "#Crossmatching two catalogues using a maximum distance\n",
    "\n",
    "import numpy as np\n",
    "\n",
    "def angular_dist(RA1, dec1, RA2, dec2):\n",
    "    # Convert to radians\n",
    "    r1 = np.radians(RA1)\n",
    "    d1 = np.radians(dec1)\n",
    "    r2 = np.radians(RA2)\n",
    "    d2 = np.radians(dec2)\n",
    "    \n",
    "    deltar = np.abs(r1 - r2)\n",
    "    deltad = np.abs(d1 - d2)\n",
    "    angle = 2*np.arcsin(np.sqrt(np.sin(deltad/2)**2 \n",
    "                        + np.cos(d1)*np.cos(d2)*np.sin(deltar/2)**2))\n",
    "    \n",
    "    # Convert back to degrees\n",
    "    return np.degrees(angle)\n",
    "\n",
    "def crossmatch(cat1, cat2, max_radius):\n",
    "    matches = []\n",
    "    no_matches = []\n",
    "    for id1, ra1, dec1 in cat1:\n",
    "        closest_dist = np.inf\n",
    "        closest_id2 = None\n",
    "        for id2, ra2, dec2 in cat2:\n",
    "            dist = angular_dist(ra1, dec1, ra2, dec2)\n",
    "            if dist < closest_dist:\n",
    "                closest_id2 = id2\n",
    "                closest_dist = dist\n",
    "        \n",
    "        # Ignore match if it's outside the maximum radius\n",
    "        if closest_dist > max_radius:\n",
    "            no_matches.append(id1)\n",
    "        else:\n",
    "            matches.append((id1, closest_id2, closest_dist))\n",
    "\n",
    "    return matches, no_matches"
   ]
  },
  {
   "cell_type": "code",
   "execution_count": null,
   "metadata": {},
   "outputs": [],
   "source": []
  }
 ],
 "metadata": {
  "kernelspec": {
   "display_name": "Python 3",
   "language": "python",
   "name": "python3"
  },
  "language_info": {
   "codemirror_mode": {
    "name": "ipython",
    "version": 3
   },
   "file_extension": ".py",
   "mimetype": "text/x-python",
   "name": "python",
   "nbconvert_exporter": "python",
   "pygments_lexer": "ipython3",
   "version": "3.7.3"
  }
 },
 "nbformat": 4,
 "nbformat_minor": 2
}
